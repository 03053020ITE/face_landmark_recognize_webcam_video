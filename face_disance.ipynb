{
 "cells": [
  {
   "cell_type": "code",
   "execution_count": null,
   "metadata": {},
   "outputs": [],
   "source": [
    "import face_recognition\n",
    "\n",
    "#通常不是檢查兩個面是否匹配（真或假），而是看看它們有多相似是有幫助的。\n",
    "#您可以使用face_distance函數來完成此操作。\n",
    "\n",
    "#模型的訓練方式是0.6或更小的距離應該匹配。 但如果你願意的話\n",
    "#更嚴格，你可以尋找更小的面部距離。 例如，使用0.55截止值會減少錯誤\n",
    "#positive匹配存在更多漏報的風險。\n",
    "\n",
    "#祝意：這與“百分比匹配”不完全相同。 比例不是線性的。 但你可以假設圖像帶有\n",
    "#較小的距離與距離較遠的距離更相似。\n",
    "\n",
    "# Load some images to compare against\n",
    "known_obama_image = face_recognition.load_image_file(\"obama.jpg\")\n",
    "known_biden_image = face_recognition.load_image_file(\"biden.jpg\")\n",
    "\n",
    "# Get the face encodings for the known images\n",
    "obama_face_encoding = face_recognition.face_encodings(known_obama_image)[0]\n",
    "biden_face_encoding = face_recognition.face_encodings(known_biden_image)[0]\n",
    "\n",
    "known_encodings = [\n",
    "    obama_face_encoding,\n",
    "    biden_face_encoding\n",
    "]\n",
    "\n",
    "# Load a test image and get encondings for it\n",
    "image_to_test = face_recognition.load_image_file(\"obama2.jpg\")\n",
    "image_to_test_encoding = face_recognition.face_encodings(image_to_test)[0]\n",
    "\n",
    "# See how far apart the test image is from the known faces\n",
    "face_distances = face_recognition.face_distance(known_encodings, image_to_test_encoding)\n",
    "\n",
    "for i, face_distance in enumerate(face_distances):\n",
    "    print(\"The test image has a distance of {:.2} from known image #{}\".format(face_distance, i))\n",
    "    print(\"- With a normal cutoff of 0.6, would the test image match the known image? {}\".format(face_distance < 0.6))\n",
    "    print(\"- With a very strict cutoff of 0.5, would the test image match the known image? {}\".format(face_distance < 0.5))\n",
    "    print()"
   ]
  }
 ],
 "metadata": {
  "kernelspec": {
   "display_name": "Python 3",
   "language": "python",
   "name": "python3"
  },
  "language_info": {
   "codemirror_mode": {
    "name": "ipython",
    "version": 3
   },
   "file_extension": ".py",
   "mimetype": "text/x-python",
   "name": "python",
   "nbconvert_exporter": "python",
   "pygments_lexer": "ipython3",
   "version": "3.6.7"
  }
 },
 "nbformat": 4,
 "nbformat_minor": 2
}
