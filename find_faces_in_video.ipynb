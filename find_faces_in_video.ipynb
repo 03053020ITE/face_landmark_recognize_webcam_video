{
 "cells": [
  {
   "cell_type": "code",
   "execution_count": null,
   "metadata": {},
   "outputs": [],
   "source": [
    "import face_recognition\n",
    "import cv2\n",
    "\n",
    "# This code finds all faces in a list of images using the CNN model.\n",
    "#\n",
    "# This demo is for the _special case_ when you need to find faces in LOTS of images very quickly and all the images\n",
    "# are the exact same size. This is common in video processing applications where you have lots of video frames\n",
    "# to process.\n",
    "#\n",
    "# If you are processing a lot of images and using a GPU with CUDA, batch processing can be ~3x faster then processing\n",
    "# single images at a time. But if you aren't using a GPU, then batch processing isn't going to be very helpful.\n",
    "#\n",
    "# PLEASE NOTE: This example requires OpenCV (the `cv2` library) to be installed only to read the video file.\n",
    "# OpenCV is *not* required to use the face_recognition library. It's only required if you want to run this\n",
    "# specific demo. If you have trouble installing it, try any of the other demos that don't require it instead.\n",
    "\n",
    "# Open video file\n",
    "video_capture = cv2.VideoCapture(\"short_hamilton_clip.mp4\")\n",
    "\n",
    "frames = []\n",
    "frame_count = 0\n",
    "\n",
    "while video_capture.isOpened():\n",
    "    # Grab a single frame of video\n",
    "    ret, frame = video_capture.read()\n",
    "\n",
    "    # Bail out when the video file ends\n",
    "    if not ret:\n",
    "        break\n",
    "\n",
    "    # Convert the image from BGR color (which OpenCV uses) to RGB color (which face_recognition uses)\n",
    "    frame = frame[:, :, ::-1]\n",
    "\n",
    "    # Save each frame of the video to a list\n",
    "    frame_count += 1\n",
    "    frames.append(frame)\n",
    "\n",
    "    # Every 128 frames (the default batch size), batch process the list of frames to find faces\n",
    "    if len(frames) == 128:\n",
    "        batch_of_face_locations = face_recognition.batch_face_locations(frames, number_of_times_to_upsample=0)\n",
    "\n",
    "        # Now let's list all the faces we found in all 128 frames\n",
    "        for frame_number_in_batch, face_locations in enumerate(batch_of_face_locations):\n",
    "            number_of_faces_in_frame = len(face_locations)\n",
    "\n",
    "            frame_number = frame_count - 128 + frame_number_in_batch\n",
    "            print(\"I found {} face(s) in frame #{}.\".format(number_of_faces_in_frame, frame_number))\n",
    "\n",
    "            for face_location in face_locations:\n",
    "                # Print the location of each face in this frame\n",
    "                top, right, bottom, left = face_location\n",
    "                print(\" - A face is located at pixel location Top: {}, Left: {}, Bottom: {}, Right: {}\".format(top, left, bottom, right))\n",
    "\n",
    "        # Clear the frames array to start the next batch\n",
    "        frames = []"
   ]
  }
 ],
 "metadata": {
  "kernelspec": {
   "display_name": "Python 3",
   "language": "python",
   "name": "python3"
  },
  "language_info": {
   "codemirror_mode": {
    "name": "ipython",
    "version": 3
   },
   "file_extension": ".py",
   "mimetype": "text/x-python",
   "name": "python",
   "nbconvert_exporter": "python",
   "pygments_lexer": "ipython3",
   "version": "3.6.7"
  }
 },
 "nbformat": 4,
 "nbformat_minor": 2
}
