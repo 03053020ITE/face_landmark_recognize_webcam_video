{
 "cells": [
  {
   "cell_type": "code",
   "execution_count": 1,
   "metadata": {},
   "outputs": [
    {
     "name": "stdout",
     "output_type": "stream",
     "text": [
      "I found 1 face(s) in this photograph.\n",
      "The chin in this face has the following points: [(448, 347), (448, 356), (449, 364), (450, 374), (454, 383), (460, 391), (468, 397), (477, 401), (488, 401), (499, 400), (508, 396), (517, 390), (523, 382), (526, 372), (527, 362), (527, 353), (527, 344)]\n",
      "The left_eyebrow in this face has the following points: [(454, 335), (459, 330), (466, 328), (473, 329), (480, 333)]\n",
      "The right_eyebrow in this face has the following points: [(491, 333), (498, 330), (506, 328), (514, 330), (519, 336)]\n",
      "The nose_bridge in this face has the following points: [(486, 340), (486, 346), (486, 352), (487, 358)]\n",
      "The nose_tip in this face has the following points: [(477, 365), (482, 365), (487, 366), (491, 365), (496, 364)]\n",
      "The left_eye in this face has the following points: [(461, 343), (466, 341), (470, 341), (475, 343), (470, 344), (466, 344)]\n",
      "The right_eye in this face has the following points: [(497, 343), (501, 341), (506, 341), (511, 343), (506, 344), (501, 344)]\n",
      "The top_lip in this face has the following points: [(468, 378), (475, 374), (482, 372), (486, 373), (491, 371), (497, 373), (504, 376), (501, 376), (491, 376), (487, 376), (482, 376), (471, 378)]\n",
      "The bottom_lip in this face has the following points: [(504, 376), (497, 380), (492, 382), (487, 383), (482, 383), (475, 382), (468, 378), (471, 378), (482, 377), (487, 377), (491, 376), (501, 376)]\n"
     ]
    }
   ],
   "source": [
    "from PIL import Image, ImageDraw\n",
    "import face_recognition\n",
    "\n",
    "# Load the jpg file into a numpy array\n",
    "image = face_recognition.load_image_file(\"./me.jpg\")\n",
    "\n",
    "# Find all facial features in all the faces in the image\n",
    "face_landmarks_list = face_recognition.face_landmarks(image)\n",
    "\n",
    "print(\"I found {} face(s) in this photograph.\".format(len(face_landmarks_list)))\n",
    "\n",
    "# Create a PIL imagedraw object so we can draw on the picture\n",
    "pil_image = Image.fromarray(image)\n",
    "d = ImageDraw.Draw(pil_image)\n",
    "\n",
    "for face_landmarks in face_landmarks_list:\n",
    "\n",
    "    # Print the location of each facial feature in this image\n",
    "    for facial_feature in face_landmarks.keys():\n",
    "        print(\"The {} in this face has the following points: {}\".format(facial_feature, face_landmarks[facial_feature]))\n",
    "\n",
    "    # Let's trace out each facial feature in the image with a line!\n",
    "    for facial_feature in face_landmarks.keys():\n",
    "        d.line(face_landmarks[facial_feature], width=5)\n",
    "\n",
    "# Show the picture\n",
    "pil_image.show()"
   ]
  },
  {
   "cell_type": "code",
   "execution_count": null,
   "metadata": {},
   "outputs": [],
   "source": []
  }
 ],
 "metadata": {
  "kernelspec": {
   "display_name": "Python 3",
   "language": "python",
   "name": "python3"
  },
  "language_info": {
   "codemirror_mode": {
    "name": "ipython",
    "version": 3
   },
   "file_extension": ".py",
   "mimetype": "text/x-python",
   "name": "python",
   "nbconvert_exporter": "python",
   "pygments_lexer": "ipython3",
   "version": "3.6.7"
  }
 },
 "nbformat": 4,
 "nbformat_minor": 2
}
